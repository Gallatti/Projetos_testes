{
 "cells": [
  {
   "cell_type": "markdown",
   "id": "9cfdc2f6",
   "metadata": {},
   "source": [
    "# Desafio de Análise de Dados"
   ]
  },
  {
   "cell_type": "markdown",
   "id": "131c6f5f",
   "metadata": {},
   "source": [
    "![descrição_da_imagem](Imagem/up.jpg)"
   ]
  },
  {
   "cell_type": "markdown",
   "id": "c331a706",
   "metadata": {},
   "source": [
    "## Objetivo\n",
    "\n",
    "Gerar um novo relatório de pagamento dos afiliados.\n",
    "\n",
    "Calcular a soma total de apostas do cliente no banco de dados de cada afiliado encontrado no arquivo CSV.\n",
    "\n",
    "Utilizando os totais das apostas e os dados da tabela limites, determinar a porcentagem aplicada ao pagamento final.\n",
    "\n",
    "Determine a porcentagem necessária para calcular o valor de acréscimo com base nas informações fornecidas na tabela limites.\n",
    "\n",
    "Aplique a porcentagem encontrada ao valor na coluna \"pagamentos\" do CSV para obter o pagamento final.\n",
    "\n",
    "Usar alguma ferramente de BI (Databricks, Tableau, Apache Spark, Python Pandas e Jupiter) ou relacionadas.\n",
    "\n",
    "No assunto do email coloque essa chave [Desafio-Dados]."
   ]
  },
  {
   "cell_type": "markdown",
   "id": "80f13ca8",
   "metadata": {},
   "source": [
    "### Instalando e Carregando os Pacotes"
   ]
  },
  {
   "cell_type": "code",
   "execution_count": 1,
   "id": "3a2995a9",
   "metadata": {},
   "outputs": [
    {
     "name": "stdout",
     "output_type": "stream",
     "text": [
      "Versão da Linguagem Python Usada Neste Jupyter Notebook: 3.11.5\n"
     ]
    }
   ],
   "source": [
    "# Versão da Linguagem Python\n",
    "from platform import python_version\n",
    "print('Versão da Linguagem Python Usada Neste Jupyter Notebook:', python_version())"
   ]
  },
  {
   "cell_type": "code",
   "execution_count": 2,
   "id": "f6b089c1",
   "metadata": {},
   "outputs": [],
   "source": [
    "# Imports\n",
    "import numpy as np\n",
    "import pandas as pd"
   ]
  },
  {
   "cell_type": "code",
   "execution_count": 34,
   "id": "9d25c8fe",
   "metadata": {},
   "outputs": [],
   "source": [
    "# Carregar o dataset sem a primeira linha como cabeçalho\n",
    "df_limits  = pd.read_csv('dados/limits.csv', header=None)\n",
    "\n",
    "# Definindo os títulos das colunas tirados da base de dados\n",
    "titulos_colunas = ['id', 'amount', 'porcent', 'date']\n",
    "\n",
    "# Definindo os títulos das colunas no Dataset\n",
    "df_limits.columns = titulos_colunas"
   ]
  },
  {
   "cell_type": "code",
   "execution_count": 35,
   "id": "cf9bdc06",
   "metadata": {},
   "outputs": [
    {
     "data": {
      "text/html": [
       "<div>\n",
       "<style scoped>\n",
       "    .dataframe tbody tr th:only-of-type {\n",
       "        vertical-align: middle;\n",
       "    }\n",
       "\n",
       "    .dataframe tbody tr th {\n",
       "        vertical-align: top;\n",
       "    }\n",
       "\n",
       "    .dataframe thead th {\n",
       "        text-align: right;\n",
       "    }\n",
       "</style>\n",
       "<table border=\"1\" class=\"dataframe\">\n",
       "  <thead>\n",
       "    <tr style=\"text-align: right;\">\n",
       "      <th></th>\n",
       "      <th>id</th>\n",
       "      <th>amount</th>\n",
       "      <th>porcent</th>\n",
       "      <th>date</th>\n",
       "    </tr>\n",
       "  </thead>\n",
       "  <tbody>\n",
       "    <tr>\n",
       "      <th>0</th>\n",
       "      <td>1</td>\n",
       "      <td>100</td>\n",
       "      <td>10</td>\n",
       "      <td>2023-11-10 00:00:00+00</td>\n",
       "    </tr>\n",
       "    <tr>\n",
       "      <th>1</th>\n",
       "      <td>2</td>\n",
       "      <td>200</td>\n",
       "      <td>15</td>\n",
       "      <td>2023-11-10 00:00:00+00</td>\n",
       "    </tr>\n",
       "    <tr>\n",
       "      <th>2</th>\n",
       "      <td>3</td>\n",
       "      <td>300</td>\n",
       "      <td>20</td>\n",
       "      <td>2023-11-10 00:00:00+00</td>\n",
       "    </tr>\n",
       "    <tr>\n",
       "      <th>3</th>\n",
       "      <td>5</td>\n",
       "      <td>500</td>\n",
       "      <td>30</td>\n",
       "      <td>2023-11-10 00:00:00+00</td>\n",
       "    </tr>\n",
       "    <tr>\n",
       "      <th>4</th>\n",
       "      <td>4</td>\n",
       "      <td>400</td>\n",
       "      <td>25</td>\n",
       "      <td>2023-11-10 00:00:00+00</td>\n",
       "    </tr>\n",
       "  </tbody>\n",
       "</table>\n",
       "</div>"
      ],
      "text/plain": [
       "   id  amount  porcent                    date\n",
       "0   1     100       10  2023-11-10 00:00:00+00\n",
       "1   2     200       15  2023-11-10 00:00:00+00\n",
       "2   3     300       20  2023-11-10 00:00:00+00\n",
       "3   5     500       30  2023-11-10 00:00:00+00\n",
       "4   4     400       25  2023-11-10 00:00:00+00"
      ]
     },
     "execution_count": 35,
     "metadata": {},
     "output_type": "execute_result"
    }
   ],
   "source": [
    "# Verificando os dataset limits\n",
    "df_limits .head()"
   ]
  },
  {
   "cell_type": "code",
   "execution_count": 36,
   "id": "621515ef",
   "metadata": {},
   "outputs": [
    {
     "name": "stdout",
     "output_type": "stream",
     "text": [
      "<class 'pandas.core.frame.DataFrame'>\n",
      "RangeIndex: 5 entries, 0 to 4\n",
      "Data columns (total 4 columns):\n",
      " #   Column   Non-Null Count  Dtype \n",
      "---  ------   --------------  ----- \n",
      " 0   id       5 non-null      int64 \n",
      " 1   amount   5 non-null      int64 \n",
      " 2   porcent  5 non-null      int64 \n",
      " 3   date     5 non-null      object\n",
      "dtypes: int64(3), object(1)\n",
      "memory usage: 292.0+ bytes\n"
     ]
    }
   ],
   "source": [
    "# Info\n",
    "df_limits .info()"
   ]
  },
  {
   "cell_type": "code",
   "execution_count": 18,
   "id": "3d4f2013",
   "metadata": {},
   "outputs": [],
   "source": [
    "# # Carregar o dataset sem a primeira linha como cabeçalho\n",
    "df_customers  = pd.read_csv('dados/customers.csv', header=None)"
   ]
  },
  {
   "cell_type": "code",
   "execution_count": 19,
   "id": "ed69f4e4",
   "metadata": {},
   "outputs": [
    {
     "data": {
      "text/plain": [
       "(10, 9)"
      ]
     },
     "execution_count": 19,
     "metadata": {},
     "output_type": "execute_result"
    }
   ],
   "source": [
    "# Shape\n",
    "df_customers .shape"
   ]
  },
  {
   "cell_type": "code",
   "execution_count": 20,
   "id": "1ff644ef",
   "metadata": {},
   "outputs": [
    {
     "data": {
      "text/html": [
       "<div>\n",
       "<style scoped>\n",
       "    .dataframe tbody tr th:only-of-type {\n",
       "        vertical-align: middle;\n",
       "    }\n",
       "\n",
       "    .dataframe tbody tr th {\n",
       "        vertical-align: top;\n",
       "    }\n",
       "\n",
       "    .dataframe thead th {\n",
       "        text-align: right;\n",
       "    }\n",
       "</style>\n",
       "<table border=\"1\" class=\"dataframe\">\n",
       "  <thead>\n",
       "    <tr style=\"text-align: right;\">\n",
       "      <th></th>\n",
       "      <th>0</th>\n",
       "      <th>1</th>\n",
       "      <th>2</th>\n",
       "      <th>3</th>\n",
       "      <th>4</th>\n",
       "      <th>5</th>\n",
       "      <th>6</th>\n",
       "      <th>7</th>\n",
       "      <th>8</th>\n",
       "    </tr>\n",
       "  </thead>\n",
       "  <tbody>\n",
       "    <tr>\n",
       "      <th>0</th>\n",
       "      <td>1</td>\n",
       "      <td>John Doe</td>\n",
       "      <td>t</td>\n",
       "      <td>1268759214</td>\n",
       "      <td>123-456-7890</td>\n",
       "      <td>john@example.com</td>\n",
       "      <td>100.50</td>\n",
       "      <td>1110112023</td>\n",
       "      <td>2023-11-10 00:00:00+00</td>\n",
       "    </tr>\n",
       "    <tr>\n",
       "      <th>1</th>\n",
       "      <td>2</td>\n",
       "      <td>Jane Smith</td>\n",
       "      <td>f</td>\n",
       "      <td>1268759215</td>\n",
       "      <td>123-456-7891</td>\n",
       "      <td>jane@example.com</td>\n",
       "      <td>150.75</td>\n",
       "      <td>1120112023</td>\n",
       "      <td>2023-11-10 01:00:00+00</td>\n",
       "    </tr>\n",
       "    <tr>\n",
       "      <th>2</th>\n",
       "      <td>3</td>\n",
       "      <td>Alice Johnson</td>\n",
       "      <td>t</td>\n",
       "      <td>1268759216</td>\n",
       "      <td>123-456-7892</td>\n",
       "      <td>alice@example.com</td>\n",
       "      <td>200.00</td>\n",
       "      <td>1130112023</td>\n",
       "      <td>2023-11-10 02:00:00+00</td>\n",
       "    </tr>\n",
       "    <tr>\n",
       "      <th>3</th>\n",
       "      <td>4</td>\n",
       "      <td>Bob Williams</td>\n",
       "      <td>f</td>\n",
       "      <td>1268759217</td>\n",
       "      <td>123-456-7893</td>\n",
       "      <td>bob@example.com</td>\n",
       "      <td>250.25</td>\n",
       "      <td>1140112023</td>\n",
       "      <td>2023-11-10 03:00:00+00</td>\n",
       "    </tr>\n",
       "    <tr>\n",
       "      <th>4</th>\n",
       "      <td>5</td>\n",
       "      <td>Charlie Brown</td>\n",
       "      <td>t</td>\n",
       "      <td>1268759218</td>\n",
       "      <td>123-456-7894</td>\n",
       "      <td>charlie@example.com</td>\n",
       "      <td>300.50</td>\n",
       "      <td>1150112023</td>\n",
       "      <td>2023-11-10 04:00:00+00</td>\n",
       "    </tr>\n",
       "    <tr>\n",
       "      <th>5</th>\n",
       "      <td>6</td>\n",
       "      <td>Diana King</td>\n",
       "      <td>f</td>\n",
       "      <td>1268759219</td>\n",
       "      <td>123-456-7895</td>\n",
       "      <td>diana@example.com</td>\n",
       "      <td>350.75</td>\n",
       "      <td>1160112023</td>\n",
       "      <td>2023-11-10 05:00:00+00</td>\n",
       "    </tr>\n",
       "    <tr>\n",
       "      <th>6</th>\n",
       "      <td>7</td>\n",
       "      <td>Edward Knight</td>\n",
       "      <td>t</td>\n",
       "      <td>1268759220</td>\n",
       "      <td>123-456-7896</td>\n",
       "      <td>edward@example.com</td>\n",
       "      <td>400.00</td>\n",
       "      <td>1170112023</td>\n",
       "      <td>2023-11-10 06:00:00+00</td>\n",
       "    </tr>\n",
       "    <tr>\n",
       "      <th>7</th>\n",
       "      <td>8</td>\n",
       "      <td>Fiona Queen</td>\n",
       "      <td>f</td>\n",
       "      <td>1268759221</td>\n",
       "      <td>123-456-7897</td>\n",
       "      <td>fiona@example.com</td>\n",
       "      <td>450.25</td>\n",
       "      <td>1185942023</td>\n",
       "      <td>2023-11-10 07:00:00+00</td>\n",
       "    </tr>\n",
       "    <tr>\n",
       "      <th>8</th>\n",
       "      <td>9</td>\n",
       "      <td>George Prince</td>\n",
       "      <td>t</td>\n",
       "      <td>1268759222</td>\n",
       "      <td>123-456-7898</td>\n",
       "      <td>george@example.com</td>\n",
       "      <td>500.50</td>\n",
       "      <td>1195942023</td>\n",
       "      <td>2023-11-10 08:00:00+00</td>\n",
       "    </tr>\n",
       "    <tr>\n",
       "      <th>9</th>\n",
       "      <td>10</td>\n",
       "      <td>Helen Princess</td>\n",
       "      <td>f</td>\n",
       "      <td>1268759223</td>\n",
       "      <td>123-456-7899</td>\n",
       "      <td>helen@example.com</td>\n",
       "      <td>550.75</td>\n",
       "      <td>1545942023</td>\n",
       "      <td>2023-11-10 09:00:00+00</td>\n",
       "    </tr>\n",
       "  </tbody>\n",
       "</table>\n",
       "</div>"
      ],
      "text/plain": [
       "    0               1  2           3             4                    5  \\\n",
       "0   1        John Doe  t  1268759214  123-456-7890     john@example.com   \n",
       "1   2      Jane Smith  f  1268759215  123-456-7891     jane@example.com   \n",
       "2   3   Alice Johnson  t  1268759216  123-456-7892    alice@example.com   \n",
       "3   4    Bob Williams  f  1268759217  123-456-7893      bob@example.com   \n",
       "4   5   Charlie Brown  t  1268759218  123-456-7894  charlie@example.com   \n",
       "5   6      Diana King  f  1268759219  123-456-7895    diana@example.com   \n",
       "6   7   Edward Knight  t  1268759220  123-456-7896   edward@example.com   \n",
       "7   8     Fiona Queen  f  1268759221  123-456-7897    fiona@example.com   \n",
       "8   9   George Prince  t  1268759222  123-456-7898   george@example.com   \n",
       "9  10  Helen Princess  f  1268759223  123-456-7899    helen@example.com   \n",
       "\n",
       "        6           7                       8  \n",
       "0  100.50  1110112023  2023-11-10 00:00:00+00  \n",
       "1  150.75  1120112023  2023-11-10 01:00:00+00  \n",
       "2  200.00  1130112023  2023-11-10 02:00:00+00  \n",
       "3  250.25  1140112023  2023-11-10 03:00:00+00  \n",
       "4  300.50  1150112023  2023-11-10 04:00:00+00  \n",
       "5  350.75  1160112023  2023-11-10 05:00:00+00  \n",
       "6  400.00  1170112023  2023-11-10 06:00:00+00  \n",
       "7  450.25  1185942023  2023-11-10 07:00:00+00  \n",
       "8  500.50  1195942023  2023-11-10 08:00:00+00  \n",
       "9  550.75  1545942023  2023-11-10 09:00:00+00  "
      ]
     },
     "execution_count": 20,
     "metadata": {},
     "output_type": "execute_result"
    }
   ],
   "source": [
    "df_customers .head(20)"
   ]
  },
  {
   "cell_type": "code",
   "execution_count": 21,
   "id": "0d17c6e9",
   "metadata": {},
   "outputs": [],
   "source": [
    "# Definindo os títulos das colunas tirados da base de dados\n",
    "titulos_colunas = ['id', 'name', 'status', 'code', 'phone', 'email', 'balance', 'customer_id', 'date']\n",
    "\n",
    "# Definindo os títulos das colunas no Dataset\n",
    "df_customers .columns = titulos_colunas"
   ]
  },
  {
   "cell_type": "code",
   "execution_count": 22,
   "id": "942bb8ec",
   "metadata": {},
   "outputs": [
    {
     "data": {
      "text/html": [
       "<div>\n",
       "<style scoped>\n",
       "    .dataframe tbody tr th:only-of-type {\n",
       "        vertical-align: middle;\n",
       "    }\n",
       "\n",
       "    .dataframe tbody tr th {\n",
       "        vertical-align: top;\n",
       "    }\n",
       "\n",
       "    .dataframe thead th {\n",
       "        text-align: right;\n",
       "    }\n",
       "</style>\n",
       "<table border=\"1\" class=\"dataframe\">\n",
       "  <thead>\n",
       "    <tr style=\"text-align: right;\">\n",
       "      <th></th>\n",
       "      <th>id</th>\n",
       "      <th>name</th>\n",
       "      <th>status</th>\n",
       "      <th>code</th>\n",
       "      <th>phone</th>\n",
       "      <th>email</th>\n",
       "      <th>balance</th>\n",
       "      <th>customer_id</th>\n",
       "      <th>date</th>\n",
       "    </tr>\n",
       "  </thead>\n",
       "  <tbody>\n",
       "    <tr>\n",
       "      <th>0</th>\n",
       "      <td>1</td>\n",
       "      <td>John Doe</td>\n",
       "      <td>t</td>\n",
       "      <td>1268759214</td>\n",
       "      <td>123-456-7890</td>\n",
       "      <td>john@example.com</td>\n",
       "      <td>100.50</td>\n",
       "      <td>1110112023</td>\n",
       "      <td>2023-11-10 00:00:00+00</td>\n",
       "    </tr>\n",
       "    <tr>\n",
       "      <th>1</th>\n",
       "      <td>2</td>\n",
       "      <td>Jane Smith</td>\n",
       "      <td>f</td>\n",
       "      <td>1268759215</td>\n",
       "      <td>123-456-7891</td>\n",
       "      <td>jane@example.com</td>\n",
       "      <td>150.75</td>\n",
       "      <td>1120112023</td>\n",
       "      <td>2023-11-10 01:00:00+00</td>\n",
       "    </tr>\n",
       "    <tr>\n",
       "      <th>2</th>\n",
       "      <td>3</td>\n",
       "      <td>Alice Johnson</td>\n",
       "      <td>t</td>\n",
       "      <td>1268759216</td>\n",
       "      <td>123-456-7892</td>\n",
       "      <td>alice@example.com</td>\n",
       "      <td>200.00</td>\n",
       "      <td>1130112023</td>\n",
       "      <td>2023-11-10 02:00:00+00</td>\n",
       "    </tr>\n",
       "    <tr>\n",
       "      <th>3</th>\n",
       "      <td>4</td>\n",
       "      <td>Bob Williams</td>\n",
       "      <td>f</td>\n",
       "      <td>1268759217</td>\n",
       "      <td>123-456-7893</td>\n",
       "      <td>bob@example.com</td>\n",
       "      <td>250.25</td>\n",
       "      <td>1140112023</td>\n",
       "      <td>2023-11-10 03:00:00+00</td>\n",
       "    </tr>\n",
       "    <tr>\n",
       "      <th>4</th>\n",
       "      <td>5</td>\n",
       "      <td>Charlie Brown</td>\n",
       "      <td>t</td>\n",
       "      <td>1268759218</td>\n",
       "      <td>123-456-7894</td>\n",
       "      <td>charlie@example.com</td>\n",
       "      <td>300.50</td>\n",
       "      <td>1150112023</td>\n",
       "      <td>2023-11-10 04:00:00+00</td>\n",
       "    </tr>\n",
       "    <tr>\n",
       "      <th>5</th>\n",
       "      <td>6</td>\n",
       "      <td>Diana King</td>\n",
       "      <td>f</td>\n",
       "      <td>1268759219</td>\n",
       "      <td>123-456-7895</td>\n",
       "      <td>diana@example.com</td>\n",
       "      <td>350.75</td>\n",
       "      <td>1160112023</td>\n",
       "      <td>2023-11-10 05:00:00+00</td>\n",
       "    </tr>\n",
       "    <tr>\n",
       "      <th>6</th>\n",
       "      <td>7</td>\n",
       "      <td>Edward Knight</td>\n",
       "      <td>t</td>\n",
       "      <td>1268759220</td>\n",
       "      <td>123-456-7896</td>\n",
       "      <td>edward@example.com</td>\n",
       "      <td>400.00</td>\n",
       "      <td>1170112023</td>\n",
       "      <td>2023-11-10 06:00:00+00</td>\n",
       "    </tr>\n",
       "    <tr>\n",
       "      <th>7</th>\n",
       "      <td>8</td>\n",
       "      <td>Fiona Queen</td>\n",
       "      <td>f</td>\n",
       "      <td>1268759221</td>\n",
       "      <td>123-456-7897</td>\n",
       "      <td>fiona@example.com</td>\n",
       "      <td>450.25</td>\n",
       "      <td>1185942023</td>\n",
       "      <td>2023-11-10 07:00:00+00</td>\n",
       "    </tr>\n",
       "    <tr>\n",
       "      <th>8</th>\n",
       "      <td>9</td>\n",
       "      <td>George Prince</td>\n",
       "      <td>t</td>\n",
       "      <td>1268759222</td>\n",
       "      <td>123-456-7898</td>\n",
       "      <td>george@example.com</td>\n",
       "      <td>500.50</td>\n",
       "      <td>1195942023</td>\n",
       "      <td>2023-11-10 08:00:00+00</td>\n",
       "    </tr>\n",
       "    <tr>\n",
       "      <th>9</th>\n",
       "      <td>10</td>\n",
       "      <td>Helen Princess</td>\n",
       "      <td>f</td>\n",
       "      <td>1268759223</td>\n",
       "      <td>123-456-7899</td>\n",
       "      <td>helen@example.com</td>\n",
       "      <td>550.75</td>\n",
       "      <td>1545942023</td>\n",
       "      <td>2023-11-10 09:00:00+00</td>\n",
       "    </tr>\n",
       "  </tbody>\n",
       "</table>\n",
       "</div>"
      ],
      "text/plain": [
       "   id            name status        code         phone                email  \\\n",
       "0   1        John Doe      t  1268759214  123-456-7890     john@example.com   \n",
       "1   2      Jane Smith      f  1268759215  123-456-7891     jane@example.com   \n",
       "2   3   Alice Johnson      t  1268759216  123-456-7892    alice@example.com   \n",
       "3   4    Bob Williams      f  1268759217  123-456-7893      bob@example.com   \n",
       "4   5   Charlie Brown      t  1268759218  123-456-7894  charlie@example.com   \n",
       "5   6      Diana King      f  1268759219  123-456-7895    diana@example.com   \n",
       "6   7   Edward Knight      t  1268759220  123-456-7896   edward@example.com   \n",
       "7   8     Fiona Queen      f  1268759221  123-456-7897    fiona@example.com   \n",
       "8   9   George Prince      t  1268759222  123-456-7898   george@example.com   \n",
       "9  10  Helen Princess      f  1268759223  123-456-7899    helen@example.com   \n",
       "\n",
       "   balance  customer_id                    date  \n",
       "0   100.50   1110112023  2023-11-10 00:00:00+00  \n",
       "1   150.75   1120112023  2023-11-10 01:00:00+00  \n",
       "2   200.00   1130112023  2023-11-10 02:00:00+00  \n",
       "3   250.25   1140112023  2023-11-10 03:00:00+00  \n",
       "4   300.50   1150112023  2023-11-10 04:00:00+00  \n",
       "5   350.75   1160112023  2023-11-10 05:00:00+00  \n",
       "6   400.00   1170112023  2023-11-10 06:00:00+00  \n",
       "7   450.25   1185942023  2023-11-10 07:00:00+00  \n",
       "8   500.50   1195942023  2023-11-10 08:00:00+00  \n",
       "9   550.75   1545942023  2023-11-10 09:00:00+00  "
      ]
     },
     "execution_count": 22,
     "metadata": {},
     "output_type": "execute_result"
    }
   ],
   "source": [
    "df_customers .head(20)"
   ]
  },
  {
   "cell_type": "code",
   "execution_count": 23,
   "id": "f503f392",
   "metadata": {},
   "outputs": [
    {
     "data": {
      "text/plain": [
       "(10, 9)"
      ]
     },
     "execution_count": 23,
     "metadata": {},
     "output_type": "execute_result"
    }
   ],
   "source": [
    "# Shape\n",
    "df_customers .shape"
   ]
  },
  {
   "cell_type": "code",
   "execution_count": 24,
   "id": "fd0dad0e",
   "metadata": {},
   "outputs": [
    {
     "name": "stdout",
     "output_type": "stream",
     "text": [
      "<class 'pandas.core.frame.DataFrame'>\n",
      "RangeIndex: 10 entries, 0 to 9\n",
      "Data columns (total 9 columns):\n",
      " #   Column       Non-Null Count  Dtype  \n",
      "---  ------       --------------  -----  \n",
      " 0   id           10 non-null     int64  \n",
      " 1   name         10 non-null     object \n",
      " 2   status       10 non-null     object \n",
      " 3   code         10 non-null     int64  \n",
      " 4   phone        10 non-null     object \n",
      " 5   email        10 non-null     object \n",
      " 6   balance      10 non-null     float64\n",
      " 7   customer_id  10 non-null     int64  \n",
      " 8   date         10 non-null     object \n",
      "dtypes: float64(1), int64(3), object(5)\n",
      "memory usage: 852.0+ bytes\n"
     ]
    }
   ],
   "source": [
    "# Info\n",
    "df_customers .info()"
   ]
  },
  {
   "cell_type": "code",
   "execution_count": 26,
   "id": "b7a11fed",
   "metadata": {},
   "outputs": [],
   "source": [
    "# Carregar o dataset affiliates\n",
    "df_affiliates = pd.read_csv('dados/affiliates.csv')"
   ]
  },
  {
   "cell_type": "code",
   "execution_count": 27,
   "id": "19967a9f",
   "metadata": {},
   "outputs": [
    {
     "data": {
      "text/html": [
       "<div>\n",
       "<style scoped>\n",
       "    .dataframe tbody tr th:only-of-type {\n",
       "        vertical-align: middle;\n",
       "    }\n",
       "\n",
       "    .dataframe tbody tr th {\n",
       "        vertical-align: top;\n",
       "    }\n",
       "\n",
       "    .dataframe thead th {\n",
       "        text-align: right;\n",
       "    }\n",
       "</style>\n",
       "<table border=\"1\" class=\"dataframe\">\n",
       "  <thead>\n",
       "    <tr style=\"text-align: right;\">\n",
       "      <th></th>\n",
       "      <th>name</th>\n",
       "      <th>affiliate_id</th>\n",
       "      <th>date</th>\n",
       "      <th>payment</th>\n",
       "      <th>customer_id</th>\n",
       "    </tr>\n",
       "  </thead>\n",
       "  <tbody>\n",
       "    <tr>\n",
       "      <th>0</th>\n",
       "      <td>Emma Johnson</td>\n",
       "      <td>349779</td>\n",
       "      <td>2023-11-26</td>\n",
       "      <td>197.42</td>\n",
       "      <td>1545942023</td>\n",
       "    </tr>\n",
       "    <tr>\n",
       "      <th>1</th>\n",
       "      <td>John Smith</td>\n",
       "      <td>589485</td>\n",
       "      <td>2023-11-14</td>\n",
       "      <td>160.95</td>\n",
       "      <td>1195942023</td>\n",
       "    </tr>\n",
       "    <tr>\n",
       "      <th>2</th>\n",
       "      <td>Sophia Davis</td>\n",
       "      <td>586264</td>\n",
       "      <td>2023-11-11</td>\n",
       "      <td>194.28</td>\n",
       "      <td>1185942023</td>\n",
       "    </tr>\n",
       "    <tr>\n",
       "      <th>3</th>\n",
       "      <td>Emma Johnson</td>\n",
       "      <td>349779</td>\n",
       "      <td>2023-11-17</td>\n",
       "      <td>112.61</td>\n",
       "      <td>1150112023</td>\n",
       "    </tr>\n",
       "    <tr>\n",
       "      <th>4</th>\n",
       "      <td>Michael Miller</td>\n",
       "      <td>798583</td>\n",
       "      <td>2023-11-13</td>\n",
       "      <td>178.82</td>\n",
       "      <td>1170112023</td>\n",
       "    </tr>\n",
       "    <tr>\n",
       "      <th>5</th>\n",
       "      <td>Michael Miller</td>\n",
       "      <td>798583</td>\n",
       "      <td>2023-11-23</td>\n",
       "      <td>144.38</td>\n",
       "      <td>1110112023</td>\n",
       "    </tr>\n",
       "    <tr>\n",
       "      <th>6</th>\n",
       "      <td>John Smith</td>\n",
       "      <td>589485</td>\n",
       "      <td>2023-11-15</td>\n",
       "      <td>165.14</td>\n",
       "      <td>1140112023</td>\n",
       "    </tr>\n",
       "    <tr>\n",
       "      <th>7</th>\n",
       "      <td>Emma Johnson</td>\n",
       "      <td>349779</td>\n",
       "      <td>2023-11-12</td>\n",
       "      <td>233.10</td>\n",
       "      <td>1160112023</td>\n",
       "    </tr>\n",
       "    <tr>\n",
       "      <th>8</th>\n",
       "      <td>Emma Johnson</td>\n",
       "      <td>349779</td>\n",
       "      <td>2023-11-24</td>\n",
       "      <td>154.10</td>\n",
       "      <td>1120112023</td>\n",
       "    </tr>\n",
       "    <tr>\n",
       "      <th>9</th>\n",
       "      <td>Sophia Davis</td>\n",
       "      <td>586264</td>\n",
       "      <td>2023-11-14</td>\n",
       "      <td>224.81</td>\n",
       "      <td>1130112023</td>\n",
       "    </tr>\n",
       "  </tbody>\n",
       "</table>\n",
       "</div>"
      ],
      "text/plain": [
       "             name  affiliate_id        date  payment  customer_id\n",
       "0    Emma Johnson        349779  2023-11-26   197.42   1545942023\n",
       "1      John Smith        589485  2023-11-14   160.95   1195942023\n",
       "2    Sophia Davis        586264  2023-11-11   194.28   1185942023\n",
       "3    Emma Johnson        349779  2023-11-17   112.61   1150112023\n",
       "4  Michael Miller        798583  2023-11-13   178.82   1170112023\n",
       "5  Michael Miller        798583  2023-11-23   144.38   1110112023\n",
       "6      John Smith        589485  2023-11-15   165.14   1140112023\n",
       "7    Emma Johnson        349779  2023-11-12   233.10   1160112023\n",
       "8    Emma Johnson        349779  2023-11-24   154.10   1120112023\n",
       "9    Sophia Davis        586264  2023-11-14   224.81   1130112023"
      ]
     },
     "execution_count": 27,
     "metadata": {},
     "output_type": "execute_result"
    }
   ],
   "source": [
    "df_affiliates.head(20)"
   ]
  },
  {
   "cell_type": "code",
   "execution_count": 28,
   "id": "292c7785",
   "metadata": {},
   "outputs": [
    {
     "data": {
      "text/plain": [
       "(10, 5)"
      ]
     },
     "execution_count": 28,
     "metadata": {},
     "output_type": "execute_result"
    }
   ],
   "source": [
    "# Shape\n",
    "df_affiliates.shape"
   ]
  },
  {
   "cell_type": "code",
   "execution_count": 29,
   "id": "6b31d4cc",
   "metadata": {},
   "outputs": [
    {
     "name": "stdout",
     "output_type": "stream",
     "text": [
      "<class 'pandas.core.frame.DataFrame'>\n",
      "RangeIndex: 10 entries, 0 to 9\n",
      "Data columns (total 5 columns):\n",
      " #   Column        Non-Null Count  Dtype  \n",
      "---  ------        --------------  -----  \n",
      " 0   name          10 non-null     object \n",
      " 1   affiliate_id  10 non-null     int64  \n",
      " 2   date          10 non-null     object \n",
      " 3   payment       10 non-null     float64\n",
      " 4   customer_id   10 non-null     int64  \n",
      "dtypes: float64(1), int64(2), object(2)\n",
      "memory usage: 532.0+ bytes\n"
     ]
    }
   ],
   "source": [
    "# Info\n",
    "df_affiliates.info()"
   ]
  },
  {
   "cell_type": "markdown",
   "id": "882e9406",
   "metadata": {},
   "source": [
    "### Respondendo as Questões"
   ]
  },
  {
   "cell_type": "code",
   "execution_count": 30,
   "id": "b60cd92a",
   "metadata": {},
   "outputs": [],
   "source": [
    "# Calculando a soma total de apostas do cliente para cada afiliado\n",
    "df_customers_grouped = df_customers.groupby('customer_id')['balance'].sum().reset_index()\n",
    "df_customers_grouped.columns = ['customer_id', 'total_apostas']\n",
    "df_afiliados_clientes = pd.merge(df_affiliates, df_customers_grouped, on='customer_id', how='left')"
   ]
  },
  {
   "cell_type": "code",
   "execution_count": 31,
   "id": "e448cc71",
   "metadata": {},
   "outputs": [
    {
     "name": "stdout",
     "output_type": "stream",
     "text": [
      "             name  affiliate_id        date  payment  customer_id  \\\n",
      "0    Emma Johnson        349779  2023-11-26   197.42   1545942023   \n",
      "1      John Smith        589485  2023-11-14   160.95   1195942023   \n",
      "2    Sophia Davis        586264  2023-11-11   194.28   1185942023   \n",
      "3    Emma Johnson        349779  2023-11-17   112.61   1150112023   \n",
      "4  Michael Miller        798583  2023-11-13   178.82   1170112023   \n",
      "5  Michael Miller        798583  2023-11-23   144.38   1110112023   \n",
      "6      John Smith        589485  2023-11-15   165.14   1140112023   \n",
      "7    Emma Johnson        349779  2023-11-12   233.10   1160112023   \n",
      "8    Emma Johnson        349779  2023-11-24   154.10   1120112023   \n",
      "9    Sophia Davis        586264  2023-11-14   224.81   1130112023   \n",
      "\n",
      "   total_apostas  \n",
      "0         550.75  \n",
      "1         500.50  \n",
      "2         450.25  \n",
      "3         300.50  \n",
      "4         400.00  \n",
      "5         100.50  \n",
      "6         250.25  \n",
      "7         350.75  \n",
      "8         150.75  \n",
      "9         200.00  \n"
     ]
    }
   ],
   "source": [
    "print(df_afiliados_clientes)"
   ]
  },
  {
   "cell_type": "code",
   "execution_count": 32,
   "id": "471783a6",
   "metadata": {},
   "outputs": [],
   "source": [
    "# Determinando a porcentagem de acréscimo com base na tabela limits\n",
    "def calcular_porcentagem(valor, df_limits):\n",
    "    for index, row in df_limits.iterrows():\n",
    "        if valor <= row['amount']:\n",
    "            return row['porcent']\n",
    "    return 50  # Se o valor for maior que o limite máximo de R$500"
   ]
  },
  {
   "cell_type": "code",
   "execution_count": 37,
   "id": "a365842e",
   "metadata": {},
   "outputs": [],
   "source": [
    "# Calculando o pagamento final\n",
    "df_afiliados_clientes['porcentagem_acrescimo'] = df_afiliados_clientes['total_apostas'].apply(calcular_porcentagem, args=(df_limits,))\n",
    "df_afiliados_clientes['pagamento_final'] = df_afiliados_clientes['payment'] * (df_afiliados_clientes['porcentagem_acrescimo'] / 100)"
   ]
  },
  {
   "cell_type": "code",
   "execution_count": 38,
   "id": "9b4137fb",
   "metadata": {},
   "outputs": [
    {
     "name": "stdout",
     "output_type": "stream",
     "text": [
      "             name  affiliate_id        date  payment  customer_id  \\\n",
      "0    Emma Johnson        349779  2023-11-26   197.42   1545942023   \n",
      "1      John Smith        589485  2023-11-14   160.95   1195942023   \n",
      "2    Sophia Davis        586264  2023-11-11   194.28   1185942023   \n",
      "3    Emma Johnson        349779  2023-11-17   112.61   1150112023   \n",
      "4  Michael Miller        798583  2023-11-13   178.82   1170112023   \n",
      "5  Michael Miller        798583  2023-11-23   144.38   1110112023   \n",
      "6      John Smith        589485  2023-11-15   165.14   1140112023   \n",
      "7    Emma Johnson        349779  2023-11-12   233.10   1160112023   \n",
      "8    Emma Johnson        349779  2023-11-24   154.10   1120112023   \n",
      "9    Sophia Davis        586264  2023-11-14   224.81   1130112023   \n",
      "\n",
      "   total_apostas  porcentagem_acrescimo  pagamento_final  \n",
      "0         550.75                     50          98.7100  \n",
      "1         500.50                     50          80.4750  \n",
      "2         450.25                     30          58.2840  \n",
      "3         300.50                     30          33.7830  \n",
      "4         400.00                     30          53.6460  \n",
      "5         100.50                     15          21.6570  \n",
      "6         250.25                     20          33.0280  \n",
      "7         350.75                     30          69.9300  \n",
      "8         150.75                     15          23.1150  \n",
      "9         200.00                     15          33.7215  \n"
     ]
    }
   ],
   "source": [
    "print(df_afiliados_clientes)"
   ]
  },
  {
   "cell_type": "code",
   "execution_count": 39,
   "id": "39a60591",
   "metadata": {},
   "outputs": [],
   "source": [
    "# Criando o DataFrame com os dados essenciais do relatório\n",
    "df_relatorio = df_afiliados_clientes[['affiliate_id', 'customer_id', 'payment', 'total_apostas', 'porcentagem_acrescimo', 'pagamento_final']]"
   ]
  },
  {
   "cell_type": "code",
   "execution_count": 40,
   "id": "176a8c28",
   "metadata": {},
   "outputs": [
    {
     "name": "stdout",
     "output_type": "stream",
     "text": [
      "   affiliate_id  customer_id  payment  total_apostas  porcentagem_acrescimo  \\\n",
      "0        349779   1545942023   197.42         550.75                     50   \n",
      "1        589485   1195942023   160.95         500.50                     50   \n",
      "2        586264   1185942023   194.28         450.25                     30   \n",
      "3        349779   1150112023   112.61         300.50                     30   \n",
      "4        798583   1170112023   178.82         400.00                     30   \n",
      "5        798583   1110112023   144.38         100.50                     15   \n",
      "6        589485   1140112023   165.14         250.25                     20   \n",
      "7        349779   1160112023   233.10         350.75                     30   \n",
      "8        349779   1120112023   154.10         150.75                     15   \n",
      "9        586264   1130112023   224.81         200.00                     15   \n",
      "\n",
      "   pagamento_final  \n",
      "0          98.7100  \n",
      "1          80.4750  \n",
      "2          58.2840  \n",
      "3          33.7830  \n",
      "4          53.6460  \n",
      "5          21.6570  \n",
      "6          33.0280  \n",
      "7          69.9300  \n",
      "8          23.1150  \n",
      "9          33.7215  \n"
     ]
    }
   ],
   "source": [
    "print(df_relatorio)"
   ]
  },
  {
   "cell_type": "code",
   "execution_count": 41,
   "id": "3265965a",
   "metadata": {},
   "outputs": [],
   "source": [
    "# Criando uma variáveil para receber o Dataframe necessário para apresentar os gráficos.\n",
    "relatorio = df_relatorio"
   ]
  },
  {
   "cell_type": "code",
   "execution_count": 48,
   "id": "e96c8a56",
   "metadata": {},
   "outputs": [
    {
     "data": {
      "text/html": [
       "<div>\n",
       "<style scoped>\n",
       "    .dataframe tbody tr th:only-of-type {\n",
       "        vertical-align: middle;\n",
       "    }\n",
       "\n",
       "    .dataframe tbody tr th {\n",
       "        vertical-align: top;\n",
       "    }\n",
       "\n",
       "    .dataframe thead th {\n",
       "        text-align: right;\n",
       "    }\n",
       "</style>\n",
       "<table border=\"1\" class=\"dataframe\">\n",
       "  <thead>\n",
       "    <tr style=\"text-align: right;\">\n",
       "      <th></th>\n",
       "      <th>affiliate_id</th>\n",
       "      <th>customer_id</th>\n",
       "      <th>payment</th>\n",
       "      <th>total_apostas</th>\n",
       "      <th>porcentagem_acrescimo</th>\n",
       "      <th>pagamento_final</th>\n",
       "    </tr>\n",
       "  </thead>\n",
       "  <tbody>\n",
       "    <tr>\n",
       "      <th>0</th>\n",
       "      <td>349779</td>\n",
       "      <td>1545942023</td>\n",
       "      <td>197.42</td>\n",
       "      <td>550.75</td>\n",
       "      <td>50</td>\n",
       "      <td>98.7100</td>\n",
       "    </tr>\n",
       "    <tr>\n",
       "      <th>1</th>\n",
       "      <td>589485</td>\n",
       "      <td>1195942023</td>\n",
       "      <td>160.95</td>\n",
       "      <td>500.50</td>\n",
       "      <td>50</td>\n",
       "      <td>80.4750</td>\n",
       "    </tr>\n",
       "    <tr>\n",
       "      <th>2</th>\n",
       "      <td>586264</td>\n",
       "      <td>1185942023</td>\n",
       "      <td>194.28</td>\n",
       "      <td>450.25</td>\n",
       "      <td>30</td>\n",
       "      <td>58.2840</td>\n",
       "    </tr>\n",
       "    <tr>\n",
       "      <th>3</th>\n",
       "      <td>349779</td>\n",
       "      <td>1150112023</td>\n",
       "      <td>112.61</td>\n",
       "      <td>300.50</td>\n",
       "      <td>30</td>\n",
       "      <td>33.7830</td>\n",
       "    </tr>\n",
       "    <tr>\n",
       "      <th>4</th>\n",
       "      <td>798583</td>\n",
       "      <td>1170112023</td>\n",
       "      <td>178.82</td>\n",
       "      <td>400.00</td>\n",
       "      <td>30</td>\n",
       "      <td>53.6460</td>\n",
       "    </tr>\n",
       "    <tr>\n",
       "      <th>5</th>\n",
       "      <td>798583</td>\n",
       "      <td>1110112023</td>\n",
       "      <td>144.38</td>\n",
       "      <td>100.50</td>\n",
       "      <td>15</td>\n",
       "      <td>21.6570</td>\n",
       "    </tr>\n",
       "    <tr>\n",
       "      <th>6</th>\n",
       "      <td>589485</td>\n",
       "      <td>1140112023</td>\n",
       "      <td>165.14</td>\n",
       "      <td>250.25</td>\n",
       "      <td>20</td>\n",
       "      <td>33.0280</td>\n",
       "    </tr>\n",
       "    <tr>\n",
       "      <th>7</th>\n",
       "      <td>349779</td>\n",
       "      <td>1160112023</td>\n",
       "      <td>233.10</td>\n",
       "      <td>350.75</td>\n",
       "      <td>30</td>\n",
       "      <td>69.9300</td>\n",
       "    </tr>\n",
       "    <tr>\n",
       "      <th>8</th>\n",
       "      <td>349779</td>\n",
       "      <td>1120112023</td>\n",
       "      <td>154.10</td>\n",
       "      <td>150.75</td>\n",
       "      <td>15</td>\n",
       "      <td>23.1150</td>\n",
       "    </tr>\n",
       "    <tr>\n",
       "      <th>9</th>\n",
       "      <td>586264</td>\n",
       "      <td>1130112023</td>\n",
       "      <td>224.81</td>\n",
       "      <td>200.00</td>\n",
       "      <td>15</td>\n",
       "      <td>33.7215</td>\n",
       "    </tr>\n",
       "  </tbody>\n",
       "</table>\n",
       "</div>"
      ],
      "text/plain": [
       "   affiliate_id  customer_id  payment  total_apostas  porcentagem_acrescimo  \\\n",
       "0        349779   1545942023   197.42         550.75                     50   \n",
       "1        589485   1195942023   160.95         500.50                     50   \n",
       "2        586264   1185942023   194.28         450.25                     30   \n",
       "3        349779   1150112023   112.61         300.50                     30   \n",
       "4        798583   1170112023   178.82         400.00                     30   \n",
       "5        798583   1110112023   144.38         100.50                     15   \n",
       "6        589485   1140112023   165.14         250.25                     20   \n",
       "7        349779   1160112023   233.10         350.75                     30   \n",
       "8        349779   1120112023   154.10         150.75                     15   \n",
       "9        586264   1130112023   224.81         200.00                     15   \n",
       "\n",
       "   pagamento_final  \n",
       "0          98.7100  \n",
       "1          80.4750  \n",
       "2          58.2840  \n",
       "3          33.7830  \n",
       "4          53.6460  \n",
       "5          21.6570  \n",
       "6          33.0280  \n",
       "7          69.9300  \n",
       "8          23.1150  \n",
       "9          33.7215  "
      ]
     },
     "execution_count": 48,
     "metadata": {},
     "output_type": "execute_result"
    }
   ],
   "source": [
    "relatorio.head(15)"
   ]
  },
  {
   "cell_type": "code",
   "execution_count": 46,
   "id": "dd96b762",
   "metadata": {},
   "outputs": [],
   "source": [
    "# Exportando o DataFrame para um arquivo CSV\n",
    "relatorio.to_csv('afiliados.csv', index=False)"
   ]
  },
  {
   "cell_type": "code",
   "execution_count": 47,
   "id": "cdaed012",
   "metadata": {},
   "outputs": [
    {
     "name": "stdout",
     "output_type": "stream",
     "text": [
      "DataFrame exportado com sucesso para 'afiliados.csv'\n"
     ]
    }
   ],
   "source": [
    "# Confirmando\n",
    "print(\"DataFrame exportado com sucesso para 'afiliados.csv'\")"
   ]
  },
  {
   "cell_type": "markdown",
   "id": "92977f65",
   "metadata": {},
   "source": [
    "# Fim"
   ]
  },
  {
   "cell_type": "code",
   "execution_count": null,
   "id": "4d5a49ee",
   "metadata": {},
   "outputs": [],
   "source": []
  }
 ],
 "metadata": {
  "kernelspec": {
   "display_name": "Python 3 (ipykernel)",
   "language": "python",
   "name": "python3"
  },
  "language_info": {
   "codemirror_mode": {
    "name": "ipython",
    "version": 3
   },
   "file_extension": ".py",
   "mimetype": "text/x-python",
   "name": "python",
   "nbconvert_exporter": "python",
   "pygments_lexer": "ipython3",
   "version": "3.11.5"
  }
 },
 "nbformat": 4,
 "nbformat_minor": 5
}
